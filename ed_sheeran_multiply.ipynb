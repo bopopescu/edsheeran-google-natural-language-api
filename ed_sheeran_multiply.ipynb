{
 "cells": [
  {
   "cell_type": "code",
   "execution_count": 1,
   "metadata": {},
   "outputs": [
    {
     "name": "stdout",
     "output_type": "stream",
     "text": [
      "Requirement already up-to-date: google-cloud-language in /Users/mils/anaconda3/lib/python3.6/site-packages\n",
      "Requirement already up-to-date: google-auth<2.0dev,>=1.0.2 in /Users/mils/anaconda3/lib/python3.6/site-packages (from google-cloud-language)\n",
      "Requirement already up-to-date: google-api-core[grpc]<0.2.0dev,>=0.1.1 in /Users/mils/anaconda3/lib/python3.6/site-packages (from google-cloud-language)\n",
      "Requirement already up-to-date: pyasn1-modules>=0.2.1 in /Users/mils/anaconda3/lib/python3.6/site-packages (from google-auth<2.0dev,>=1.0.2->google-cloud-language)\n",
      "Requirement already up-to-date: cachetools>=2.0.0 in /Users/mils/anaconda3/lib/python3.6/site-packages (from google-auth<2.0dev,>=1.0.2->google-cloud-language)\n",
      "Requirement already up-to-date: rsa>=3.1.4 in /Users/mils/anaconda3/lib/python3.6/site-packages (from google-auth<2.0dev,>=1.0.2->google-cloud-language)\n",
      "Requirement already up-to-date: six>=1.9.0 in /Users/mils/anaconda3/lib/python3.6/site-packages (from google-auth<2.0dev,>=1.0.2->google-cloud-language)\n",
      "Requirement already up-to-date: setuptools>=34.0.0 in /Users/mils/anaconda3/lib/python3.6/site-packages (from google-api-core[grpc]<0.2.0dev,>=0.1.1->google-cloud-language)\n",
      "Requirement already up-to-date: requests<3.0.0dev,>=2.18.0 in /Users/mils/anaconda3/lib/python3.6/site-packages (from google-api-core[grpc]<0.2.0dev,>=0.1.1->google-cloud-language)\n",
      "Requirement already up-to-date: pytz in /Users/mils/anaconda3/lib/python3.6/site-packages (from google-api-core[grpc]<0.2.0dev,>=0.1.1->google-cloud-language)\n",
      "Requirement already up-to-date: googleapis-common-protos<2.0dev,>=1.5.3 in /Users/mils/anaconda3/lib/python3.6/site-packages (from google-api-core[grpc]<0.2.0dev,>=0.1.1->google-cloud-language)\n",
      "Requirement already up-to-date: protobuf>=3.0.0 in /Users/mils/anaconda3/lib/python3.6/site-packages (from google-api-core[grpc]<0.2.0dev,>=0.1.1->google-cloud-language)\n",
      "Requirement already up-to-date: grpcio>=1.8.2; extra == \"grpc\" in /Users/mils/anaconda3/lib/python3.6/site-packages (from google-api-core[grpc]<0.2.0dev,>=0.1.1->google-cloud-language)\n",
      "Requirement already up-to-date: pyasn1<0.5.0,>=0.4.1 in /Users/mils/anaconda3/lib/python3.6/site-packages (from pyasn1-modules>=0.2.1->google-auth<2.0dev,>=1.0.2->google-cloud-language)\n",
      "Requirement already up-to-date: chardet<3.1.0,>=3.0.2 in /Users/mils/anaconda3/lib/python3.6/site-packages (from requests<3.0.0dev,>=2.18.0->google-api-core[grpc]<0.2.0dev,>=0.1.1->google-cloud-language)\n",
      "Requirement already up-to-date: idna<2.7,>=2.5 in /Users/mils/anaconda3/lib/python3.6/site-packages (from requests<3.0.0dev,>=2.18.0->google-api-core[grpc]<0.2.0dev,>=0.1.1->google-cloud-language)\n",
      "Requirement already up-to-date: urllib3<1.23,>=1.21.1 in /Users/mils/anaconda3/lib/python3.6/site-packages (from requests<3.0.0dev,>=2.18.0->google-api-core[grpc]<0.2.0dev,>=0.1.1->google-cloud-language)\n",
      "Requirement already up-to-date: certifi>=2017.4.17 in /Users/mils/anaconda3/lib/python3.6/site-packages (from requests<3.0.0dev,>=2.18.0->google-api-core[grpc]<0.2.0dev,>=0.1.1->google-cloud-language)\n"
     ]
    }
   ],
   "source": [
    "!pip install --upgrade google-cloud-language"
   ]
  },
  {
   "cell_type": "code",
   "execution_count": 1,
   "metadata": {
    "collapsed": true
   },
   "outputs": [],
   "source": [
    "import pandas as pd"
   ]
  },
  {
   "cell_type": "code",
   "execution_count": 2,
   "metadata": {},
   "outputs": [
    {
     "name": "stdout",
     "output_type": "stream",
     "text": [
      "Text: Hello, world!\n",
      "Sentiment: 0.30000001192092896, 0.30000001192092896\n"
     ]
    }
   ],
   "source": [
    "from google.cloud import language\n",
    "from google.cloud.language import enums\n",
    "from google.cloud.language import types\n",
    "\n",
    "# Instantiates a client\n",
    "client = language.LanguageServiceClient()\n",
    "\n",
    "# The text to analyze\n",
    "text = u'Hello, world!'\n",
    "document = types.Document(\n",
    "    content=text,\n",
    "    type=enums.Document.Type.PLAIN_TEXT)\n",
    "\n",
    "# Detects the sentiment of the text\n",
    "sentiment = client.analyze_sentiment(document=document).document_sentiment\n",
    "\n",
    "print('Text: {}'.format(text))\n",
    "print('Sentiment: {}, {}'.format(sentiment.score, sentiment.magnitude))"
   ]
  },
  {
   "cell_type": "code",
   "execution_count": 3,
   "metadata": {},
   "outputs": [
    {
     "name": "stdout",
     "output_type": "stream",
     "text": [
      "Text: asd\n",
      "Sentiment: 0.10000000149011612, 0.10000000149011612\n"
     ]
    }
   ],
   "source": [
    "text = u'asd'\n",
    "document = types.Document(\n",
    "    content=text,\n",
    "    type=enums.Document.Type.PLAIN_TEXT)\n",
    "\n",
    "sentiment = client.analyze_sentiment(document=document).document_sentiment\n",
    "\n",
    "print('Text: {}'.format(text))\n",
    "print('Sentiment: {}, {}'.format(sentiment.score, sentiment.magnitude))"
   ]
  },
  {
   "cell_type": "code",
   "execution_count": 4,
   "metadata": {},
   "outputs": [
    {
     "name": "stdout",
     "output_type": "stream",
     "text": [
      "{'songs': ['afire_love', 'all_of_the_stars', 'bloodstream', 'dont', 'english_rose', 'even_my_dad_does_sometimes', 'i_see_fire', 'im_a_mess', 'lay_it_all_on_me', 'make_it_rain', 'newyork', 'nina', 'one', 'photograph', 'runaway', 'shirtsleeves', 'sing', 'take_it_back', 'tenerife_sea', 'the_man', 'thinking_out_loud', 'touch_and_go'], 'scores': [0.30000001192092896, 0.20000000298023224, -0.30000001192092896, -0.20000000298023224, 0.5, 0.20000000298023224, 0.0, 0.0, 0.20000000298023224, 0.0, 0.0, -0.10000000149011612, -0.30000001192092896, 0.10000000149011612, 0.0, -0.10000000149011612, 0.0, 0.0, 0.4000000059604645, -0.20000000298023224, 0.30000001192092896, 0.0], 'magnitudes': [2.0, 0.699999988079071, 1.0, 1.7999999523162842, 1.100000023841858, 0.4000000059604645, 0.800000011920929, 1.399999976158142, 0.8999999761581421, 0.5, 0.699999988079071, 0.8999999761581421, 1.100000023841858, 0.699999988079071, 0.6000000238418579, 0.800000011920929, 1.600000023841858, 2.5999999046325684, 1.2999999523162842, 1.7999999523162842, 1.100000023841858, 0.20000000298023224]}\n"
     ]
    }
   ],
   "source": [
    "from os import listdir\n",
    "from os.path import isfile, join\n",
    "path = '/Users/mils/Projects/google_cloud_natural_language/lyrics'\n",
    "lyrics_files = [f for f in listdir(path) if isfile(join(path, f))]\n",
    "\n",
    "d = {'songs':[], 'scores': [], 'magnitudes': []}\n",
    "songs = []\n",
    "scores = []\n",
    "magnitudes = []\n",
    "\n",
    "for file_name in lyrics_files:\n",
    "    file = f'{path}/{file_name}'\n",
    "    with open(file, 'r') as lyrics:\n",
    "        text = lyrics.readlines()\n",
    "        text = str(text).strip('[]')\n",
    "        document = types.Document(\n",
    "            content=text,\n",
    "            type=enums.Document.Type.PLAIN_TEXT\n",
    "        )\n",
    "\n",
    "        sentiment = client.analyze_sentiment(document=document).document_sentiment\n",
    "        #print('Sentiment: {}, {}'.format(sentiment.score, sentiment.magnitude))\n",
    "        songs.append(file_name.split('.txt')[0])\n",
    "        scores.append(sentiment.score)\n",
    "        magnitudes.append(sentiment.magnitude)\n",
    "\n",
    "d['songs'] = songs\n",
    "d['scores'] = scores\n",
    "d['magnitudes'] = magnitudes\n",
    "\n",
    "    \n",
    "print(d)"
   ]
  },
  {
   "cell_type": "code",
   "execution_count": 5,
   "metadata": {},
   "outputs": [
    {
     "data": {
      "text/html": [
       "<div>\n",
       "<style>\n",
       "    .dataframe thead tr:only-child th {\n",
       "        text-align: right;\n",
       "    }\n",
       "\n",
       "    .dataframe thead th {\n",
       "        text-align: left;\n",
       "    }\n",
       "\n",
       "    .dataframe tbody tr th {\n",
       "        vertical-align: top;\n",
       "    }\n",
       "</style>\n",
       "<table border=\"1\" class=\"dataframe\">\n",
       "  <thead>\n",
       "    <tr style=\"text-align: right;\">\n",
       "      <th></th>\n",
       "      <th>magnitudes</th>\n",
       "      <th>scores</th>\n",
       "      <th>songs</th>\n",
       "    </tr>\n",
       "  </thead>\n",
       "  <tbody>\n",
       "    <tr>\n",
       "      <th>0</th>\n",
       "      <td>2.0</td>\n",
       "      <td>0.3</td>\n",
       "      <td>afire_love</td>\n",
       "    </tr>\n",
       "    <tr>\n",
       "      <th>1</th>\n",
       "      <td>0.7</td>\n",
       "      <td>0.2</td>\n",
       "      <td>all_of_the_stars</td>\n",
       "    </tr>\n",
       "    <tr>\n",
       "      <th>2</th>\n",
       "      <td>1.0</td>\n",
       "      <td>-0.3</td>\n",
       "      <td>bloodstream</td>\n",
       "    </tr>\n",
       "    <tr>\n",
       "      <th>3</th>\n",
       "      <td>1.8</td>\n",
       "      <td>-0.2</td>\n",
       "      <td>dont</td>\n",
       "    </tr>\n",
       "    <tr>\n",
       "      <th>4</th>\n",
       "      <td>1.1</td>\n",
       "      <td>0.5</td>\n",
       "      <td>english_rose</td>\n",
       "    </tr>\n",
       "    <tr>\n",
       "      <th>5</th>\n",
       "      <td>0.4</td>\n",
       "      <td>0.2</td>\n",
       "      <td>even_my_dad_does_sometimes</td>\n",
       "    </tr>\n",
       "    <tr>\n",
       "      <th>6</th>\n",
       "      <td>0.8</td>\n",
       "      <td>0.0</td>\n",
       "      <td>i_see_fire</td>\n",
       "    </tr>\n",
       "    <tr>\n",
       "      <th>7</th>\n",
       "      <td>1.4</td>\n",
       "      <td>0.0</td>\n",
       "      <td>im_a_mess</td>\n",
       "    </tr>\n",
       "    <tr>\n",
       "      <th>8</th>\n",
       "      <td>0.9</td>\n",
       "      <td>0.2</td>\n",
       "      <td>lay_it_all_on_me</td>\n",
       "    </tr>\n",
       "    <tr>\n",
       "      <th>9</th>\n",
       "      <td>0.5</td>\n",
       "      <td>0.0</td>\n",
       "      <td>make_it_rain</td>\n",
       "    </tr>\n",
       "    <tr>\n",
       "      <th>10</th>\n",
       "      <td>0.7</td>\n",
       "      <td>0.0</td>\n",
       "      <td>newyork</td>\n",
       "    </tr>\n",
       "    <tr>\n",
       "      <th>11</th>\n",
       "      <td>0.9</td>\n",
       "      <td>-0.1</td>\n",
       "      <td>nina</td>\n",
       "    </tr>\n",
       "    <tr>\n",
       "      <th>12</th>\n",
       "      <td>1.1</td>\n",
       "      <td>-0.3</td>\n",
       "      <td>one</td>\n",
       "    </tr>\n",
       "    <tr>\n",
       "      <th>13</th>\n",
       "      <td>0.7</td>\n",
       "      <td>0.1</td>\n",
       "      <td>photograph</td>\n",
       "    </tr>\n",
       "    <tr>\n",
       "      <th>14</th>\n",
       "      <td>0.6</td>\n",
       "      <td>0.0</td>\n",
       "      <td>runaway</td>\n",
       "    </tr>\n",
       "    <tr>\n",
       "      <th>15</th>\n",
       "      <td>0.8</td>\n",
       "      <td>-0.1</td>\n",
       "      <td>shirtsleeves</td>\n",
       "    </tr>\n",
       "    <tr>\n",
       "      <th>16</th>\n",
       "      <td>1.6</td>\n",
       "      <td>0.0</td>\n",
       "      <td>sing</td>\n",
       "    </tr>\n",
       "    <tr>\n",
       "      <th>17</th>\n",
       "      <td>2.6</td>\n",
       "      <td>0.0</td>\n",
       "      <td>take_it_back</td>\n",
       "    </tr>\n",
       "    <tr>\n",
       "      <th>18</th>\n",
       "      <td>1.3</td>\n",
       "      <td>0.4</td>\n",
       "      <td>tenerife_sea</td>\n",
       "    </tr>\n",
       "    <tr>\n",
       "      <th>19</th>\n",
       "      <td>1.8</td>\n",
       "      <td>-0.2</td>\n",
       "      <td>the_man</td>\n",
       "    </tr>\n",
       "    <tr>\n",
       "      <th>20</th>\n",
       "      <td>1.1</td>\n",
       "      <td>0.3</td>\n",
       "      <td>thinking_out_loud</td>\n",
       "    </tr>\n",
       "    <tr>\n",
       "      <th>21</th>\n",
       "      <td>0.2</td>\n",
       "      <td>0.0</td>\n",
       "      <td>touch_and_go</td>\n",
       "    </tr>\n",
       "  </tbody>\n",
       "</table>\n",
       "</div>"
      ],
      "text/plain": [
       "    magnitudes  scores                       songs\n",
       "0          2.0     0.3                  afire_love\n",
       "1          0.7     0.2            all_of_the_stars\n",
       "2          1.0    -0.3                 bloodstream\n",
       "3          1.8    -0.2                        dont\n",
       "4          1.1     0.5                english_rose\n",
       "5          0.4     0.2  even_my_dad_does_sometimes\n",
       "6          0.8     0.0                  i_see_fire\n",
       "7          1.4     0.0                   im_a_mess\n",
       "8          0.9     0.2            lay_it_all_on_me\n",
       "9          0.5     0.0                make_it_rain\n",
       "10         0.7     0.0                     newyork\n",
       "11         0.9    -0.1                        nina\n",
       "12         1.1    -0.3                         one\n",
       "13         0.7     0.1                  photograph\n",
       "14         0.6     0.0                     runaway\n",
       "15         0.8    -0.1                shirtsleeves\n",
       "16         1.6     0.0                        sing\n",
       "17         2.6     0.0                take_it_back\n",
       "18         1.3     0.4                tenerife_sea\n",
       "19         1.8    -0.2                     the_man\n",
       "20         1.1     0.3           thinking_out_loud\n",
       "21         0.2     0.0                touch_and_go"
      ]
     },
     "execution_count": 5,
     "metadata": {},
     "output_type": "execute_result"
    }
   ],
   "source": [
    "df = pd.DataFrame(data=d)\n",
    "df"
   ]
  },
  {
   "cell_type": "code",
   "execution_count": 6,
   "metadata": {
    "collapsed": true
   },
   "outputs": [],
   "source": [
    "from matplotlib import pyplot as plt\n",
    "import seaborn as sns"
   ]
  },
  {
   "cell_type": "code",
   "execution_count": 14,
   "metadata": {},
   "outputs": [
    {
     "data": {
      "image/png": "[encoded data removed]",
      "text/plain": [
       "<matplotlib.figure.Figure at 0x10d945fd0>"
      ]
     },
     "metadata": {},
     "output_type": "display_data"
    }
   ],
   "source": [
    "plt.figure(figsize=(10, 6))\n",
    "palette = sns.set_palette('husl')\n",
    "df.scores = df.scores.round(2)\n",
    "g = sns.barplot(x='songs', y='scores', data=df, palette=palette);\n",
    "g.set_xticklabels(g.get_xticklabels(), rotation=90);\n",
    "g.set(xlabel='Song Name', ylabel='Score')\n",
    "for p in g.patches:\n",
    "    g.annotate(str(p.get_height()), (p.get_x(), p.get_height() * 1.015));\n",
    "plt.show()"
   ]
  },
  {
   "cell_type": "markdown",
   "metadata": {},
   "source": [
    "'One' might be positive instead\n",
    "'Afire love' might not be positive --- the rhythm is sad but lyrics tends to be sad "
   ]
  },
  {
   "cell_type": "code",
   "execution_count": 16,
   "metadata": {},
   "outputs": [
    {
     "data": {
      "image/png": "[encoded data removed]",
      "text/plain": [
       "<matplotlib.figure.Figure at 0x10d4cd2b0>"
      ]
     },
     "metadata": {},
     "output_type": "display_data"
    }
   ],
   "source": [
    "plt.figure(figsize=(10, 6))\n",
    "palette = sns.set_palette('husl')\n",
    "df.magnitudes = df.magnitudes.round(2)\n",
    "g = sns.barplot(x='songs', y='magnitudes', data=df, palette=palette);\n",
    "g.set_xticklabels(g.get_xticklabels(), rotation=90);\n",
    "g.set(xlabel='Song Name', ylabel='Score')\n",
    "for p in g.patches:\n",
    "    g.annotate(str(p.get_height()), (p.get_x(), p.get_height() * 1.015));\n",
    "plt.show()"
   ]
  },
  {
   "cell_type": "code",
   "execution_count": null,
   "metadata": {
    "collapsed": true
   },
   "outputs": [],
   "source": []
  }
 ],
 "metadata": {
  "kernelspec": {
   "display_name": "Python 3",
   "language": "python",
   "name": "python3"
  },
  "language_info": {
   "codemirror_mode": {
    "name": "ipython",
    "version": 3
   },
   "file_extension": ".py",
   "mimetype": "text/x-python",
   "name": "python",
   "nbconvert_exporter": "python",
   "pygments_lexer": "ipython3",
   "version": "3.6.2"
  }
 },
 "nbformat": 4,
 "nbformat_minor": 2
}
